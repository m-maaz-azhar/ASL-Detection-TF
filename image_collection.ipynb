{
 "cells": [
  {
   "cell_type": "code",
   "execution_count": 1,
   "metadata": {},
   "outputs": [
    {
     "name": "stdout",
     "output_type": "stream",
     "text": [
      "Defaulting to user installation because normal site-packages is not writeable\n",
      "Collecting opencv-python\n",
      "  Downloading opencv_python-4.6.0.66-cp36-abi3-win_amd64.whl (35.6 MB)\n",
      "     -------------------------------------- 35.6/35.6 MB 762.4 kB/s eta 0:00:00\n",
      "Requirement already satisfied: numpy>=1.19.3 in c:\\programdata\\anaconda3\\lib\\site-packages (from opencv-python) (1.21.5)\n",
      "Installing collected packages: opencv-python\n",
      "Successfully installed opencv-python-4.6.0.66\n"
     ]
    }
   ],
   "source": [
    "!pip install opencv-python"
   ]
  },
  {
   "cell_type": "code",
   "execution_count": 2,
   "metadata": {},
   "outputs": [],
   "source": [
    "import cv2\n",
    "import uuid\n",
    "import os\n",
    "import time"
   ]
  },
  {
   "cell_type": "code",
   "execution_count": 11,
   "metadata": {},
   "outputs": [],
   "source": [
    "labels = ['A', 'B', 'C', 'D','E','F','G','H','I','J','K','L','M','N','O','P','Q','R','S','T','U','V','X','Y','Z']\n",
    "number_imgs = 25"
   ]
  },
  {
   "cell_type": "code",
   "execution_count": 3,
   "metadata": {},
   "outputs": [],
   "source": [
    "images_path = os.path.join('images', 'collectedimages')\n",
    "if not os.path.exists(images_path):\n",
    "    !mkdir {images_path}\n",
    "\n",
    "for label in labels:\n",
    "    label_dir = os.path.join(images_path,label)\n",
    "    if not os.path.exists(label_dir):\n",
    "        !mkdir {label_dir}"
   ]
  },
  {
   "cell_type": "code",
   "execution_count": 12,
   "metadata": {},
   "outputs": [
    {
     "name": "stdout",
     "output_type": "stream",
     "text": [
      "Collecting Images for thumbsup\n",
      "IMAGE NO 0\n",
      "IMAGE NO 1\n",
      "IMAGE NO 2\n",
      "IMAGE NO 3\n",
      "IMAGE NO 4\n",
      "IMAGE NO 5\n"
     ]
    }
   ],
   "source": [
    "for label in labels:\n",
    "    cap = cv2.VideoCapture(0)\n",
    "    print(\"Collecting Images for {}\".format(label))\n",
    "    time.sleep(5)\n",
    "    for img_no in range(number_imgs):\n",
    "        print(\"IMAGE NO {}\".format(img_no))\n",
    "        ret, frame = cap.read()\n",
    "        img_name = os.path.join(images_path,label,label+'-'+'{}.jpg'.format(str(uuid.uuid1())))\n",
    "        cv2.imwrite(img_name,frame)\n",
    "        cv2.imshow('frame',frame)\n",
    "        time.sleep(4)\n",
    "        if cv2.waitKey(1) & 0xFF == ord('q'):\n",
    "            break\n",
    "\n",
    "cap.release()\n",
    "cv2.destroyAllWindows()"
   ]
  },
  {
   "cell_type": "code",
   "execution_count": 16,
   "metadata": {},
   "outputs": [],
   "source": [
    "labelled_img_path = os.path.join('images','labeledImages')"
   ]
  },
  {
   "cell_type": "code",
   "execution_count": 19,
   "metadata": {},
   "outputs": [
    {
     "name": "stderr",
     "output_type": "stream",
     "text": [
      "Cloning into 'images\\labeledImages'...\n"
     ]
    }
   ],
   "source": [
    "if not os.path.exists(labelled_img_path):\n",
    "    !mkdir {labelled_img_path}\n",
    "    !git clone https://github.com/heartexlabs/labelImg.git {labelled_img_path}"
   ]
  },
  {
   "cell_type": "code",
   "execution_count": 21,
   "metadata": {},
   "outputs": [],
   "source": [
    "!cd {labelled_img_path} && pyrcc5 -o libs/resources.py resources.qrc\n"
   ]
  },
  {
   "cell_type": "code",
   "execution_count": 22,
   "metadata": {},
   "outputs": [
    {
     "name": "stdout",
     "output_type": "stream",
     "text": [
      "Image:D:\\Object-Detection\\images\\collectedimages\\livelong\\livelong-02a0219a-384a-11ed-b559-b46d838d6e03.jpg -> Annotation:D:/Object-Detection/images/collectedimages/livelong\\livelong-02a0219a-384a-11ed-b559-b46d838d6e03.xml\n",
      "Image:D:\\Object-Detection\\images\\collectedimages\\livelong\\livelong-02a0219a-384a-11ed-b559-b46d838d6e03.jpg -> Annotation:D:/Object-Detection/images/collectedimages/livelong/livelong-02a0219a-384a-11ed-b559-b46d838d6e03.xml\n",
      "Image:D:\\Object-Detection\\images\\collectedimages\\livelong\\livelong-7bdf9519-3849-11ed-8352-b46d838d6e03.jpg -> Annotation:D:/Object-Detection/images/collectedimages/livelong\\livelong-7bdf9519-3849-11ed-8352-b46d838d6e03.xml\n",
      "Image:D:\\Object-Detection\\images\\collectedimages\\livelong\\livelong-7bdf9519-3849-11ed-8352-b46d838d6e03.jpg -> Annotation:D:/Object-Detection/images/collectedimages/livelong/livelong-7bdf9519-3849-11ed-8352-b46d838d6e03.xml\n",
      "Image:D:\\Object-Detection\\images\\collectedimages\\livelong\\livelong-7d15ce1f-3849-11ed-9f6f-b46d838d6e03.jpg -> Annotation:D:/Object-Detection/images/collectedimages/livelong\\livelong-7d15ce1f-3849-11ed-9f6f-b46d838d6e03.xml\n",
      "Image:D:\\Object-Detection\\images\\collectedimages\\livelong\\livelong-00361be8-384a-11ed-a3a4-b46d838d6e03.jpg -> Annotation:D:/Object-Detection/images/collectedimages/livelong\\livelong-00361be8-384a-11ed-a3a4-b46d838d6e03.xml\n",
      "Image:D:\\Object-Detection\\images\\collectedimages\\livelong\\livelong-783c26e5-3849-11ed-8ec0-b46d838d6e03.jpg -> Annotation:D:/Object-Detection/images/collectedimages/livelong\\livelong-783c26e5-3849-11ed-8ec0-b46d838d6e03.xml\n",
      "Image:D:\\Object-Detection\\images\\collectedimages\\livelong\\livelong-797283b1-3849-11ed-b5cf-b46d838d6e03.jpg -> Annotation:D:/Object-Detection/images/collectedimages/livelong\\livelong-797283b1-3849-11ed-b5cf-b46d838d6e03.xml\n",
      "Image:D:\\Object-Detection\\images\\collectedimages\\livelong\\livelong-f8f9d19d-3849-11ed-bcc6-b46d838d6e03.jpg -> Annotation:D:/Object-Detection/images/collectedimages/livelong\\livelong-f8f9d19d-3849-11ed-bcc6-b46d838d6e03.xml\n",
      "Image:D:\\Object-Detection\\images\\collectedimages\\livelong\\livelong-f68a8c4a-3849-11ed-99db-b46d838d6e03.jpg -> Annotation:D:/Object-Detection/images/collectedimages/livelong\\livelong-f68a8c4a-3849-11ed-99db-b46d838d6e03.xml\n",
      "Image:D:\\Object-Detection\\images\\collectedimages\\livelong\\livelong-fb5ff1fb-3849-11ed-8ef9-b46d838d6e03.jpg -> Annotation:D:/Object-Detection/images/collectedimages/livelong\\livelong-fb5ff1fb-3849-11ed-8ef9-b46d838d6e03.xml\n",
      "Image:D:\\Object-Detection\\images\\collectedimages\\livelong\\livelong-fdcee414-3849-11ed-b369-b46d838d6e03.jpg -> Annotation:D:/Object-Detection/images/collectedimages/livelong\\livelong-fdcee414-3849-11ed-b369-b46d838d6e03.xml\n",
      "Image:D:\\Object-Detection\\images\\collectedimages\\thankyou\\thankyou-66b7b076-3849-11ed-b804-b46d838d6e03.jpg -> Annotation:D:/Object-Detection/images/collectedimages/thankyou\\thankyou-66b7b076-3849-11ed-b804-b46d838d6e03.xml\n",
      "Image:D:\\Object-Detection\\images\\collectedimages\\thankyou\\thankyou-657fcdd4-3849-11ed-8242-b46d838d6e03.jpg -> Annotation:D:/Object-Detection/images/collectedimages/thankyou\\thankyou-657fcdd4-3849-11ed-8242-b46d838d6e03.xml\n",
      "Image:D:\\Object-Detection\\images\\collectedimages\\thankyou\\thankyou-63133af8-3849-11ed-bcd5-b46d838d6e03.jpg -> Annotation:D:/Object-Detection/images/collectedimages/thankyou\\thankyou-63133af8-3849-11ed-bcd5-b46d838d6e03.xml\n",
      "Image:D:\\Object-Detection\\images\\collectedimages\\thankyou\\thankyou-69279180-3849-11ed-acf2-b46d838d6e03.jpg -> Annotation:D:/Object-Detection/images/collectedimages/thankyou\\thankyou-69279180-3849-11ed-acf2-b46d838d6e03.xml\n",
      "Image:D:\\Object-Detection\\images\\collectedimages\\thankyou\\thankyou-b83f1ca2-3849-11ed-9735-b46d838d6e03.jpg -> Annotation:D:/Object-Detection/images/collectedimages/thankyou\\thankyou-b83f1ca2-3849-11ed-9735-b46d838d6e03.xml\n",
      "Image:D:\\Object-Detection\\images\\collectedimages\\thankyou\\thankyou-b976a522-3849-11ed-81b5-b46d838d6e03.jpg -> Annotation:D:/Object-Detection/images/collectedimages/thankyou\\thankyou-b976a522-3849-11ed-81b5-b46d838d6e03.xml\n",
      "Image:D:\\Object-Detection\\images\\collectedimages\\thankyou\\thankyou-b5996767-3849-11ed-813e-b46d838d6e03.jpg -> Annotation:D:/Object-Detection/images/collectedimages/thankyou\\thankyou-b5996767-3849-11ed-813e-b46d838d6e03.xml\n",
      "Image:D:\\Object-Detection\\images\\collectedimages\\thankyou\\thankyou-baad68ba-3849-11ed-91c8-b46d838d6e03.jpg -> Annotation:D:/Object-Detection/images/collectedimages/thankyou\\thankyou-baad68ba-3849-11ed-91c8-b46d838d6e03.xml\n",
      "Image:D:\\Object-Detection\\images\\collectedimages\\thankyou\\thankyou-bbe36f79-3849-11ed-9ae5-b46d838d6e03.jpg -> Annotation:D:/Object-Detection/images/collectedimages/thankyou\\thankyou-bbe36f79-3849-11ed-9ae5-b46d838d6e03.xml\n",
      "Image:D:\\Object-Detection\\images\\collectedimages\\thumbsdown\\thumbsdown-3a540906-384a-11ed-8b7b-b46d838d6e03.jpg -> Annotation:D:/Object-Detection/images/collectedimages/thumbsdown\\thumbsdown-3a540906-384a-11ed-8b7b-b46d838d6e03.xml\n",
      "Image:D:\\Object-Detection\\images\\collectedimages\\thumbsdown\\thumbsdown-3cbd2a4f-384a-11ed-8bb3-b46d838d6e03.jpg -> Annotation:D:/Object-Detection/images/collectedimages/thumbsdown\\thumbsdown-3cbd2a4f-384a-11ed-8bb3-b46d838d6e03.xml\n",
      "Image:D:\\Object-Detection\\images\\collectedimages\\thumbsdown\\thumbsdown-3f24a813-384a-11ed-937f-b46d838d6e03.jpg -> Annotation:D:/Object-Detection/images/collectedimages/thumbsdown\\thumbsdown-3f24a813-384a-11ed-937f-b46d838d6e03.xml\n",
      "Image:D:\\Object-Detection\\images\\collectedimages\\thumbsdown\\thumbsdown-37ebe740-384a-11ed-9f12-b46d838d6e03.jpg -> Annotation:D:/Object-Detection/images/collectedimages/thumbsdown\\thumbsdown-37ebe740-384a-11ed-9f12-b46d838d6e03.xml\n",
      "Image:D:\\Object-Detection\\images\\collectedimages\\thumbsdown\\thumbsdown-51ab720a-3849-11ed-8697-b46d838d6e03.jpg -> Annotation:D:/Object-Detection/images/collectedimages/thumbsdown\\thumbsdown-51ab720a-3849-11ed-8697-b46d838d6e03.xml\n",
      "Image:D:\\Object-Detection\\images\\collectedimages\\thumbsdown\\thumbsdown-52e2afeb-3849-11ed-a91d-b46d838d6e03.jpg -> Annotation:D:/Object-Detection/images/collectedimages/thumbsdown\\thumbsdown-52e2afeb-3849-11ed-a91d-b46d838d6e03.xml\n",
      "Image:D:\\Object-Detection\\images\\collectedimages\\thumbsdown\\thumbsdown-357f69a9-384a-11ed-8091-b46d838d6e03.jpg -> Annotation:D:/Object-Detection/images/collectedimages/thumbsdown\\thumbsdown-357f69a9-384a-11ed-8091-b46d838d6e03.xml\n",
      "Image:D:\\Object-Detection\\images\\collectedimages\\thumbsdown\\thumbsdown-418c286b-384a-11ed-9644-b46d838d6e03.jpg -> Annotation:D:/Object-Detection/images/collectedimages/thumbsdown\\thumbsdown-418c286b-384a-11ed-9644-b46d838d6e03.xml\n",
      "Image:D:\\Object-Detection\\images\\collectedimages\\thumbsdown\\thumbsdown-541a6cc7-3849-11ed-adad-b46d838d6e03.jpg -> Annotation:D:/Object-Detection/images/collectedimages/thumbsdown\\thumbsdown-541a6cc7-3849-11ed-adad-b46d838d6e03.xml\n",
      "Image:D:\\Object-Detection\\images\\collectedimages\\thumbsdown\\thumbsdown-55541d41-3849-11ed-8b47-b46d838d6e03.jpg -> Annotation:D:/Object-Detection/images/collectedimages/thumbsdown\\thumbsdown-55541d41-3849-11ed-8b47-b46d838d6e03.xml\n",
      "Image:D:\\Object-Detection\\images\\collectedimages\\thumbsup\\thumbsup-3c19a136-3849-11ed-b18f-b46d838d6e03.jpg -> Annotation:D:/Object-Detection/images/collectedimages/thumbsup\\thumbsup-3c19a136-3849-11ed-b18f-b46d838d6e03.xml\n",
      "Image:D:\\Object-Detection\\images\\collectedimages\\thumbsup\\thumbsup-3d501bd7-3849-11ed-b1c4-b46d838d6e03.jpg -> Annotation:D:/Object-Detection/images/collectedimages/thumbsup\\thumbsup-3d501bd7-3849-11ed-b1c4-b46d838d6e03.xml\n",
      "Image:D:\\Object-Detection\\images\\collectedimages\\thumbsup\\thumbsup-7bd961ad-384a-11ed-bf13-b46d838d6e03.jpg -> Annotation:D:/Object-Detection/images/collectedimages/thumbsup\\thumbsup-7bd961ad-384a-11ed-bf13-b46d838d6e03.xml\n",
      "Image:D:\\Object-Detection\\images\\collectedimages\\thumbsup\\thumbsup-7e409368-384a-11ed-b8f0-b46d838d6e03.jpg -> Annotation:D:/Object-Detection/images/collectedimages/thumbsup\\thumbsup-7e409368-384a-11ed-b8f0-b46d838d6e03.xml\n",
      "Image:D:\\Object-Detection\\images\\collectedimages\\thumbsup\\thumbsup-80aa43c7-384a-11ed-9207-b46d838d6e03.jpg -> Annotation:D:/Object-Detection/images/collectedimages/thumbsup\\thumbsup-80aa43c7-384a-11ed-9207-b46d838d6e03.xml\n",
      "Image:D:\\Object-Detection\\images\\collectedimages\\thumbsup\\thumbsup-405a95e1-3849-11ed-ae8b-b46d838d6e03.jpg -> Annotation:D:/Object-Detection/images/collectedimages/thumbsup\\thumbsup-405a95e1-3849-11ed-ae8b-b46d838d6e03.xml\n",
      "Image:D:\\Object-Detection\\images\\collectedimages\\thumbsup\\thumbsup-418f4803-3849-11ed-bded-b46d838d6e03.jpg -> Annotation:D:/Object-Detection/images/collectedimages/thumbsup\\thumbsup-418f4803-3849-11ed-bded-b46d838d6e03.xml\n",
      "Image:D:\\Object-Detection\\images\\collectedimages\\thumbsup\\thumbsup-749f3f6f-384a-11ed-acef-b46d838d6e03.jpg -> Annotation:D:/Object-Detection/images/collectedimages/thumbsup\\thumbsup-749f3f6f-384a-11ed-acef-b46d838d6e03.xml\n",
      "Image:D:\\Object-Detection\\images\\collectedimages\\thumbsup\\thumbsup-770aee9b-384a-11ed-8c94-b46d838d6e03.jpg -> Annotation:D:/Object-Detection/images/collectedimages/thumbsup\\thumbsup-770aee9b-384a-11ed-8c94-b46d838d6e03.xml\n",
      "Image:D:\\Object-Detection\\images\\collectedimages\\thumbsup\\thumbsup-79715ca6-384a-11ed-8c52-b46d838d6e03.jpg -> Annotation:D:/Object-Detection/images/collectedimages/thumbsup\\thumbsup-79715ca6-384a-11ed-8c52-b46d838d6e03.xml\n"
     ]
    },
    {
     "name": "stderr",
     "output_type": "stream",
     "text": [
      "d:\\Object-Detection\\images\\labeledImages\\labelImg.py:213: DeprecationWarning: an integer is required (got type DockWidgetFeatures).  Implicit conversion to integers using __int__ is deprecated, and may be removed in a future version of Python.\n",
      "  self.dock.setFeatures(self.dock.features() ^ self.dock_features)\n"
     ]
    }
   ],
   "source": [
    "!cd {labelled_img_path} && python labelImg.py"
   ]
  },
  {
   "cell_type": "code",
   "execution_count": null,
   "metadata": {},
   "outputs": [],
   "source": []
  }
 ],
 "metadata": {
  "kernelspec": {
   "display_name": "TFOD",
   "language": "python",
   "name": "tfod"
  },
  "language_info": {
   "codemirror_mode": {
    "name": "ipython",
    "version": 3
   },
   "file_extension": ".py",
   "mimetype": "text/x-python",
   "name": "python",
   "nbconvert_exporter": "python",
   "pygments_lexer": "ipython3",
   "version": "3.9.12"
  }
 },
 "nbformat": 4,
 "nbformat_minor": 2
}
